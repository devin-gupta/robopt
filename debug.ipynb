{
 "cells": [
  {
   "cell_type": "code",
   "execution_count": 10,
   "metadata": {},
   "outputs": [
    {
     "name": "stdout",
     "output_type": "stream",
     "text": [
      "Collecting prettytable\n",
      "  Downloading prettytable-3.12.0-py3-none-any.whl.metadata (30 kB)\n",
      "Requirement already satisfied: wcwidth in ./.venv/lib/python3.11/site-packages (from prettytable) (0.2.13)\n",
      "Downloading prettytable-3.12.0-py3-none-any.whl (31 kB)\n",
      "Installing collected packages: prettytable\n",
      "Successfully installed prettytable-3.12.0\n",
      "\n",
      "\u001b[1m[\u001b[0m\u001b[34;49mnotice\u001b[0m\u001b[1;39;49m]\u001b[0m\u001b[39;49m A new release of pip is available: \u001b[0m\u001b[31;49m24.2\u001b[0m\u001b[39;49m -> \u001b[0m\u001b[32;49m24.3.1\u001b[0m\n",
      "\u001b[1m[\u001b[0m\u001b[34;49mnotice\u001b[0m\u001b[1;39;49m]\u001b[0m\u001b[39;49m To update, run: \u001b[0m\u001b[32;49mpip install --upgrade pip\u001b[0m\n"
     ]
    }
   ],
   "source": [
    "!pip install prettytable"
   ]
  },
  {
   "cell_type": "code",
   "execution_count": 32,
   "metadata": {},
   "outputs": [],
   "source": [
    "import os\n",
    "import torch as th\n",
    "from stable_baselines3 import PPO, SAC, TD3\n",
    "from stable_baselines3.common.vec_env import DummyVecEnv, SubprocVecEnv, VecNormalize\n",
    "from stable_baselines3.common.monitor import Monitor\n",
    "from stable_baselines3.common.callbacks import EvalCallback, CheckpointCallback\n",
    "from envs.bidding import BiddingEnv  # Assuming this is your custom environment\n",
    "from tabulate import tabulate\n",
    "import numpy as np\n",
    "# from prettytable import PrettyTable"
   ]
  },
  {
   "cell_type": "code",
   "execution_count": 33,
   "metadata": {},
   "outputs": [],
   "source": [
    "log_dir = \"./runs/baselines\"\n",
    "\n",
    "\n",
    "env = BiddingEnv(render_mode='human')\n",
    "\n",
    "# Wrap with VecNormalize for observation and reward normalization\n",
    "vec_env = DummyVecEnv([lambda: env])  # Single process\n",
    "vec_env = VecNormalize(vec_env, norm_obs=True, norm_reward=True)\n",
    "\n",
    "\n",
    "# Load the pretrained model\n",
    "model = SAC.load(\"./runs/baselines/SAC/best_model\", env=vec_env)"
   ]
  },
  {
   "cell_type": "code",
   "execution_count": 40,
   "metadata": {},
   "outputs": [
    {
     "name": "stdout",
     "output_type": "stream",
     "text": [
      "[[ 1.0730231 -1.1366774  1.185443 ]]\n",
      "[[ 1.0730231 -1.1366774  1.185443 ]]\n",
      "[[ 1.0561998 -1.1177198  1.1647209]]\n",
      "[[ 1.0401437 -1.0996803  1.1450487]]\n",
      "[[ 1.0247983 -1.0824869  1.1263409]]\n",
      "[[ 1.0101126 -1.0660754  1.108521 ]]\n",
      "[[ 0.9960407 -1.0503886  1.091521 ]]\n",
      "[[ 0.98254097 -1.0353744   1.0752798 ]]\n",
      "[[ 0.9695757 -1.0209862  1.0597428]]\n",
      "[[ 0.95711046 -1.0071816   1.0448604 ]]\n",
      "[[ 0.94511396 -0.9939223   1.0305878 ]]\n",
      "Episode 1 Total Reward: [2.6313264]\n"
     ]
    }
   ],
   "source": [
    "# Reset the environment\n",
    "obs = vec_env.reset()\n",
    "\n",
    "print(obs['robot_0_self_state'])\n",
    "# print(obs.robot_1_self_state)\n",
    "\n",
    "# for item in obs:\n",
    "#     if 'self_state' in item: \n",
    "#         print('self_state = ', item)\n",
    "\n",
    "# Run for a specified number of episodes or steps\n",
    "for episode in range(1):\n",
    "    done = False\n",
    "    total_reward = 0\n",
    "\n",
    "    counter = 0\n",
    "    \n",
    "    while not done:\n",
    "\n",
    "        counter += 1\n",
    "\n",
    "        print(obs['robot_0_self_state'])\n",
    "\n",
    "        # Get action from the model\n",
    "        action, _ = model.predict(obs, deterministic=True)\n",
    "\n",
    "        action_array = np.array(action).reshape(9, 6)\n",
    "\n",
    "        # print(f\"Step {counter} has Action:\")\n",
    "        # table = tabulate(action_array, headers=[f\"Robot {i+1}\" for i in range(6)], tablefmt=\"fancy_grid\", showindex=\"always\")\n",
    "        # print(table)\n",
    "\n",
    "\n",
    "        # Step the environment\n",
    "        obs, reward, done, info = vec_env.step(action)\n",
    "        \n",
    "        # Render the environment (if your environment supports rendering)\n",
    "        vec_env.render(mode='human')\n",
    "        \n",
    "        total_reward += reward\n",
    "    \n",
    "    print(f\"Episode {episode + 1} Total Reward: {total_reward}\")\n",
    "\n",
    "# Close the environment when done\n",
    "vec_env.close()\n"
   ]
  }
 ],
 "metadata": {
  "kernelspec": {
   "display_name": ".venv",
   "language": "python",
   "name": "python3"
  },
  "language_info": {
   "codemirror_mode": {
    "name": "ipython",
    "version": 3
   },
   "file_extension": ".py",
   "mimetype": "text/x-python",
   "name": "python",
   "nbconvert_exporter": "python",
   "pygments_lexer": "ipython3",
   "version": "3.11.4"
  }
 },
 "nbformat": 4,
 "nbformat_minor": 2
}
