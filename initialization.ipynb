{
 "cells": [
  {
   "cell_type": "markdown",
   "metadata": {},
   "source": [
    "## Initialization Notebook\n",
    "\n",
    "#### Imports"
   ]
  },
  {
   "cell_type": "code",
   "execution_count": 1,
   "metadata": {},
   "outputs": [],
   "source": [
    "import numpy as np\n",
    "import matplotlib.pyplot as plt\n",
    "import seaborn as sns"
   ]
  },
  {
   "cell_type": "code",
   "execution_count": null,
   "metadata": {},
   "outputs": [],
   "source": [
    "class Task:\n",
    "    def __init__(self, x, y):\n",
    "        self.name = \"Task\"\n",
    "        self.x = x\n",
    "        self.y = y\n",
    "        self.reward = np.random.randint(0, 100)\n",
    "\n",
    "    def __str__(self):\n",
    "        return f\"Task at ({self.x}, {self.y})\"\n",
    "\n",
    "    def __repr__(self):\n",
    "        return f\"Task at ({self.x}, {self.y}) with reward {self.reward}\"\n",
    "    \n",
    "    def __eq__(self, other):\n",
    "        return self.x == other.x and self.y == other.y"
   ]
  },
  {
   "cell_type": "code",
   "execution_count": null,
   "metadata": {},
   "outputs": [],
   "source": [
    "# Create a list of tasks\n",
    "tasks = [Task(np.random.randint(0, 10), np.random.randint(0, 10)) for _ in range(10)]\n",
    "\n",
    "# Extract x, y, and rewards\n",
    "x_vals = [task.x for task in tasks]\n",
    "y_vals = [task.y for task in tasks]\n",
    "rewards = [task.reward for task in tasks]\n",
    "\n",
    "# Create a grid for the heatmap\n",
    "grid_size = (max(x_vals) + 1, max(y_vals) + 1)\n",
    "reward_grid = np.zeros(grid_size)\n",
    "\n",
    "# Populate the grid with rewards\n",
    "for task in tasks:\n",
    "    reward_grid[task.x, task.y] = task.reward\n",
    "\n",
    "# Create a mask for cells where the reward is 0\n",
    "mask = reward_grid == 0\n",
    "\n",
    "# Plot the heatmap with a mask and without text for zero-valued cells\n",
    "plt.figure(figsize=(8, 6))\n",
    "sns.heatmap(reward_grid, mask=mask, annot=True, fmt=\".0f\", cmap=\"coolwarm\", \n",
    "            linewidths=0.5, square=True, cbar_kws={\"label\": \"Reward\"}, \n",
    "            annot_kws={\"color\": \"black\"})\n",
    "\n",
    "# Set color of masked cells to white (or transparent if using a more advanced library)\n",
    "plt.title(\"Task Rewards Heatmap\")\n",
    "plt.xlabel(\"X Coordinate\")\n",
    "plt.ylabel(\"Y Coordinate\")\n",
    "plt.show()"
   ]
  }
 ],
 "metadata": {
  "kernelspec": {
   "display_name": "Python 3",
   "language": "python",
   "name": "python3"
  },
  "language_info": {
   "codemirror_mode": {
    "name": "ipython",
    "version": 3
   },
   "file_extension": ".py",
   "mimetype": "text/x-python",
   "name": "python",
   "nbconvert_exporter": "python",
   "pygments_lexer": "ipython3",
   "version": "3.11.4"
  }
 },
 "nbformat": 4,
 "nbformat_minor": 2
}
