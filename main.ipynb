{
 "cells": [
  {
   "cell_type": "code",
   "execution_count": 4,
   "metadata": {},
   "outputs": [
    {
     "name": "stdout",
     "output_type": "stream",
     "text": [
      "Collecting tabulate\n",
      "  Downloading tabulate-0.9.0-py3-none-any.whl.metadata (34 kB)\n",
      "Downloading tabulate-0.9.0-py3-none-any.whl (35 kB)\n",
      "Installing collected packages: tabulate\n",
      "Successfully installed tabulate-0.9.0\n",
      "\n",
      "\u001b[1m[\u001b[0m\u001b[34;49mnotice\u001b[0m\u001b[1;39;49m]\u001b[0m\u001b[39;49m A new release of pip is available: \u001b[0m\u001b[31;49m24.2\u001b[0m\u001b[39;49m -> \u001b[0m\u001b[32;49m24.3.1\u001b[0m\n",
      "\u001b[1m[\u001b[0m\u001b[34;49mnotice\u001b[0m\u001b[1;39;49m]\u001b[0m\u001b[39;49m To update, run: \u001b[0m\u001b[32;49mpip install --upgrade pip\u001b[0m\n"
     ]
    }
   ],
   "source": [
    "!pip install tabulate"
   ]
  },
  {
   "cell_type": "code",
   "execution_count": 1,
   "metadata": {},
   "outputs": [],
   "source": [
    "import gymnasium as gym\n",
    "from gymnasium import spaces\n",
    "from stable_baselines3.common.env_checker import check_env\n",
    "# from stable_baselines3 import PPO\n",
    "# from stable_baselines3.common.callbacks import BaseCallback\n",
    "# from gymnasium.vector import SyncVectorEnv\n",
    "# from torch.utils.tensorboard import SummaryWriter\n",
    "from pettingzoo import ParallelEnv\n",
    "import numpy as np\n",
    "\n",
    "# import matplotlib.pyplot as plt\n",
    "# import seaborn as sns\n",
    "# from matplotlib.patches import Rectangle"
   ]
  },
  {
   "cell_type": "markdown",
   "metadata": {},
   "source": [
    "### Validate Custom Envirnment with Stable Baselines"
   ]
  },
  {
   "cell_type": "code",
   "execution_count": 12,
   "metadata": {},
   "outputs": [
    {
     "name": "stdout",
     "output_type": "stream",
     "text": [
      "Dict('robot_0': Dict('bidding_matrix': Box(0, 10, (9, 6), int8), 'self_state': Box(0, [10 10  2], (3,), int8)), 'robot_1': Dict('bidding_matrix': Box(0, 10, (9, 6), int8), 'self_state': Box(0, [10 10  2], (3,), int8)), 'robot_2': Dict('bidding_matrix': Box(0, 10, (9, 6), int8), 'self_state': Box(0, [10 10  2], (3,), int8)), 'robot_3': Dict('bidding_matrix': Box(0, 10, (9, 6), int8), 'self_state': Box(0, [10 10  2], (3,), int8)), 'robot_4': Dict('bidding_matrix': Box(0, 10, (9, 6), int8), 'self_state': Box(0, [10 10  2], (3,), int8)), 'robot_5': Dict('bidding_matrix': Box(0, 10, (9, 6), int8), 'self_state': Box(0, [10 10  2], (3,), int8)), 'robot_6': Dict('bidding_matrix': Box(0, 10, (9, 6), int8), 'self_state': Box(0, [10 10  2], (3,), int8)), 'robot_7': Dict('bidding_matrix': Box(0, 10, (9, 6), int8), 'self_state': Box(0, [10 10  2], (3,), int8)), 'robot_8': Dict('bidding_matrix': Box(0, 10, (9, 6), int8), 'self_state': Box(0, [10 10  2], (3,), int8)))\n",
      "Box(0, 10, (9, 6), int8)\n",
      "[[ 5  6  8  2  1  9]\n",
      " [ 5  4  7  1  0  7]\n",
      " [ 0  4 10  6  9  0]\n",
      " [ 0  0  0 10  0  0]\n",
      " [ 7  8  2  1 10  0]\n",
      " [ 9  8  2  3  3  2]\n",
      " [10  8  2  3 10  5]\n",
      " [ 3  7  6  1  3  8]\n",
      " [ 3 10  3  6  4  2]]\n",
      "Step 1\n",
      "reward= -0.24884408884283077 done= False\n",
      "Step 2\n",
      "reward= -0.03474271061382188 done= False\n",
      "Step 3\n",
      "reward= -0.08204887373612883 done= False\n",
      "Step 4\n",
      "reward= -0.2802838734159633 done= False\n",
      "Step 5\n",
      "reward= -0.3784642327885857 done= False\n",
      "Step 6\n",
      "reward= -0.22334359070689647 done= False\n",
      "Step 7\n",
      "reward= -0.29590839497027666 done= False\n",
      "Step 8\n",
      "reward= -0.04040770649515957 done= False\n",
      "Step 9\n",
      "reward= -0.2923972103794009 done= False\n",
      "Step 10\n",
      "reward= -23.02130280089565 done= True\n",
      "Goal reached! reward= -23.02130280089565\n"
     ]
    }
   ],
   "source": [
    "from envs.bidding import BiddingEnv\n",
    "\n",
    "env = BiddingEnv()\n",
    "\n",
    "obs = env.reset()\n",
    "# env.render(mode='bids')\n",
    "\n",
    "print(env.observation_space)\n",
    "print(env.action_space)\n",
    "print(env.action_space.sample())\n",
    "\n",
    "# Hardcoded best agent: always go left!\n",
    "n_steps = 20\n",
    "for step in range(n_steps):\n",
    "  print(\"Step {}\".format(step + 1))\n",
    "  obs, reward, done, truncated, info = env.step(env.action_space.sample())\n",
    "  print('reward=', reward, 'done=', done)\n",
    "  # env.render()\n",
    "  if done:\n",
    "    # env.render(mode='verbose')\n",
    "    print(\"Goal reached!\", \"reward=\", reward)\n",
    "    break\n"
   ]
  },
  {
   "cell_type": "code",
   "execution_count": 9,
   "metadata": {},
   "outputs": [
    {
     "name": "stdout",
     "output_type": "stream",
     "text": [
      "Step: 10\n",
      "Robot at (6, 8) with type embedbot\n",
      "Robot at (7, 2) with type embedbot\n",
      "Robot at (6, 9) with type navbot\n",
      "Robot at (6, 8) with type humanbot\n",
      "Robot at (4, 1) with type navbot\n",
      "Robot at (3, 5) with type humanbot\n",
      "Robot at (7, 9) with type navbot\n",
      "Robot at (3, 5) with type embedbot\n",
      "Robot at (1, 4) with type embedbot\n",
      "\n",
      "Task at (0, 2) with prize 3 and type transport\n",
      "Task at (5, 1) with prize 2 and type specialty\n",
      "Task at (9, 5) with prize 2 and type manipulation\n",
      "Task at (3, 4) with prize 3 and type specialty\n",
      "Task at (3, 6) with prize 3 and type transport\n",
      "Task at (8, 0) with prize 1 and type manipulation\n",
      "\n",
      "Bidding Matrix: \n",
      "╒══════════╤══════════╤══════════╤══════════╤══════════╤══════════╕\n",
      "│   task 1 │   task 2 │   task 3 │   task 4 │   task 5 │   task 6 │\n",
      "╞══════════╪══════════╪══════════╪══════════╪══════════╪══════════╡\n",
      "│        8 │        4 │        6 │        0 │        4 │        1 │\n",
      "├──────────┼──────────┼──────────┼──────────┼──────────┼──────────┤\n",
      "│        1 │        8 │        5 │        0 │        9 │        0 │\n",
      "├──────────┼──────────┼──────────┼──────────┼──────────┼──────────┤\n",
      "│        4 │        4 │        2 │        4 │        1 │        7 │\n",
      "├──────────┼──────────┼──────────┼──────────┼──────────┼──────────┤\n",
      "│        7 │        2 │        8 │        5 │        7 │        4 │\n",
      "├──────────┼──────────┼──────────┼──────────┼──────────┼──────────┤\n",
      "│        6 │        1 │        8 │        8 │       10 │        5 │\n",
      "├──────────┼──────────┼──────────┼──────────┼──────────┼──────────┤\n",
      "│        3 │        1 │        0 │        6 │        3 │        3 │\n",
      "├──────────┼──────────┼──────────┼──────────┼──────────┼──────────┤\n",
      "│        1 │        9 │        0 │       10 │        6 │        6 │\n",
      "├──────────┼──────────┼──────────┼──────────┼──────────┼──────────┤\n",
      "│        0 │        8 │       10 │        4 │        0 │        1 │\n",
      "├──────────┼──────────┼──────────┼──────────┼──────────┼──────────┤\n",
      "│       10 │        1 │        2 │        7 │        5 │        1 │\n",
      "╘══════════╧══════════╧══════════╧══════════╧══════════╧══════════╛\n"
     ]
    }
   ],
   "source": [
    "env.render()"
   ]
  },
  {
   "cell_type": "code",
   "execution_count": null,
   "metadata": {},
   "outputs": [],
   "source": []
  }
 ],
 "metadata": {
  "kernelspec": {
   "display_name": ".venv",
   "language": "python",
   "name": "python3"
  },
  "language_info": {
   "codemirror_mode": {
    "name": "ipython",
    "version": 3
   },
   "file_extension": ".py",
   "mimetype": "text/x-python",
   "name": "python",
   "nbconvert_exporter": "python",
   "pygments_lexer": "ipython3",
   "version": "3.11.4"
  }
 },
 "nbformat": 4,
 "nbformat_minor": 2
}
