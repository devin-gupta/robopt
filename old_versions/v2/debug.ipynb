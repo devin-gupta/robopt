{
 "cells": [
  {
   "cell_type": "code",
   "execution_count": 10,
   "metadata": {},
   "outputs": [
    {
     "name": "stdout",
     "output_type": "stream",
     "text": [
      "Collecting prettytable\n",
      "  Downloading prettytable-3.12.0-py3-none-any.whl.metadata (30 kB)\n",
      "Requirement already satisfied: wcwidth in ./.venv/lib/python3.11/site-packages (from prettytable) (0.2.13)\n",
      "Downloading prettytable-3.12.0-py3-none-any.whl (31 kB)\n",
      "Installing collected packages: prettytable\n",
      "Successfully installed prettytable-3.12.0\n",
      "\n",
      "\u001b[1m[\u001b[0m\u001b[34;49mnotice\u001b[0m\u001b[1;39;49m]\u001b[0m\u001b[39;49m A new release of pip is available: \u001b[0m\u001b[31;49m24.2\u001b[0m\u001b[39;49m -> \u001b[0m\u001b[32;49m24.3.1\u001b[0m\n",
      "\u001b[1m[\u001b[0m\u001b[34;49mnotice\u001b[0m\u001b[1;39;49m]\u001b[0m\u001b[39;49m To update, run: \u001b[0m\u001b[32;49mpip install --upgrade pip\u001b[0m\n"
     ]
    }
   ],
   "source": [
    "!pip install prettytable"
   ]
  },
  {
   "cell_type": "code",
   "execution_count": 1,
   "metadata": {},
   "outputs": [],
   "source": [
    "import os\n",
    "import torch as th\n",
    "from stable_baselines3 import PPO, SAC, TD3\n",
    "from stable_baselines3.common.vec_env import DummyVecEnv, SubprocVecEnv, VecNormalize\n",
    "from stable_baselines3.common.monitor import Monitor\n",
    "from stable_baselines3.common.callbacks import EvalCallback, CheckpointCallback\n",
    "from envs.bidding import BiddingEnv  # Assuming this is your custom environment\n",
    "from tabulate import tabulate\n",
    "import matplotlib.pyplot as plt\n",
    "import numpy as np\n",
    "# from prettytable import PrettyTable"
   ]
  },
  {
   "cell_type": "markdown",
   "metadata": {},
   "source": [
    "## Training Debugging"
   ]
  },
  {
   "cell_type": "code",
   "execution_count": 3,
   "metadata": {},
   "outputs": [
    {
     "data": {
      "image/png": "[encoded data removed]",
      "text/plain": [
       "<Figure size 1200x600 with 1 Axes>"
      ]
     },
     "metadata": {},
     "output_type": "display_data"
    }
   ],
   "source": [
    "env = BiddingEnv()\n",
    "vec_env = DummyVecEnv([lambda: env])\n",
    "model = SAC.load(\"./runs/baselines/SAC/best_model\", env=vec_env)\n",
    "\n",
    "obs, _ = env.reset()\n",
    "\n",
    "smart_rewards, random_rewards = [], []\n",
    "\n",
    "num_experiments = 2000\n",
    "\n",
    "for i in range(num_experiments):\n",
    "    smart_action, _ = model.predict(obs, deterministic=True) # use pretrained model\n",
    "    random_action = env.action_space.sample() # sample random action\n",
    "\n",
    "    obs, reward, done, truncated, info = env.step(smart_action)\n",
    "    smart_rewards.append(reward)\n",
    "\n",
    "    obs, reward, done, truncated, info = env.step(random_action)\n",
    "    random_rewards.append(reward)\n",
    "\n",
    "    obs, _ = env.reset()\n",
    "\n",
    "# plt.scatter(np.arange(num_experiments), smart_rewards, label='Smart Agent')\n",
    "# plt.scatter(np.arange(num_experiments), random_rewards, label='Random Agent')\n",
    "# plt.legend()\n",
    "# plt.show()\n",
    "plt.figure(figsize=(12, 6))\n",
    "plt.hist(smart_rewards, bins=50, alpha=0.5, label='Smart Agent', density=True)\n",
    "plt.hist(random_rewards, bins=50, alpha=0.5, label='Random Agent', density=True)\n",
    "plt.legend()\n",
    "plt.xlabel('Reward')\n",
    "plt.ylabel('Density')\n",
    "plt.title('Distribution of Rewards: Smart Agent vs Random Agent')\n",
    "plt.show()\n",
    "\n",
    "\n",
    "    "
   ]
  },
  {
   "cell_type": "code",
   "execution_count": 25,
   "metadata": {},
   "outputs": [
    {
     "data": {
      "text/plain": [
       "Dict('robot_positions': Box(0, 9, (9, 2), int32), 'robot_types': Box(0, 2, (9,), int32), 'task_positions': Box(0, 9, (6, 2), int32), 'task_prizes': Box(1, 100, (6,), int32), 'task_types': Box(0, 2, (6,), int32))"
      ]
     },
     "execution_count": 25,
     "metadata": {},
     "output_type": "execute_result"
    }
   ],
   "source": [
    "env.observation_space"
   ]
  },
  {
   "cell_type": "markdown",
   "metadata": {},
   "source": [
    "## Sample Game"
   ]
  },
  {
   "cell_type": "code",
   "execution_count": 19,
   "metadata": {},
   "outputs": [
    {
     "name": "stdout",
     "output_type": "stream",
     "text": [
      "Step: 0\n",
      "\n",
      "Robots:\n",
      "  Robot 1: Robot at (9, 4) with type A-humanbot\n",
      "  Robot 2: Robot at (4, 1) with type B-navbot\n",
      "  Robot 3: Robot at (6, 5) with type A-humanbot\n",
      "  Robot 4: Robot at (3, 6) with type B-navbot\n",
      "  Robot 5: Robot at (9, 6) with type C-embedbot\n",
      "  Robot 6: Robot at (4, 1) with type C-embedbot\n",
      "  Robot 7: Robot at (2, 8) with type C-embedbot\n",
      "  Robot 8: Robot at (6, 2) with type C-embedbot\n",
      "  Robot 9: Robot at (0, 5) with type A-humanbot\n",
      "\n",
      "Tasks:\n",
      "  Task 1: Task at (9, 5) with prize 8 and type C-specialty\n",
      "  Task 2: Task at (3, 6) with prize 5 and type C-specialty\n",
      "  Task 3: Task at (8, 3) with prize 7 and type B-transport\n",
      "  Task 4: Task at (1, 3) with prize 9 and type B-transport\n",
      "  Task 5: Task at (9, 5) with prize 5 and type B-transport\n",
      "  Task 6: Task at (5, 1) with prize 9 and type A-manipulation\n",
      "\n",
      "Bidding Matrix:\n",
      "╒══════════╤══════════╤══════════╤══════════╤══════════╤══════════╕\n",
      "│   Task 1 │   Task 2 │   Task 3 │   Task 4 │   Task 5 │   Task 6 │\n",
      "╞══════════╪══════════╪══════════╪══════════╪══════════╪══════════╡\n",
      "│        0 │        0 │        0 │        0 │        0 │        0 │\n",
      "├──────────┼──────────┼──────────┼──────────┼──────────┼──────────┤\n",
      "│        0 │        0 │        0 │        0 │        0 │        0 │\n",
      "├──────────┼──────────┼──────────┼──────────┼──────────┼──────────┤\n",
      "│        0 │        0 │        0 │        0 │        0 │        0 │\n",
      "├──────────┼──────────┼──────────┼──────────┼──────────┼──────────┤\n",
      "│        0 │        0 │        0 │        0 │        0 │        0 │\n",
      "├──────────┼──────────┼──────────┼──────────┼──────────┼──────────┤\n",
      "│        0 │        0 │        0 │        0 │        0 │        0 │\n",
      "├──────────┼──────────┼──────────┼──────────┼──────────┼──────────┤\n",
      "│        0 │        0 │        0 │        0 │        0 │        0 │\n",
      "├──────────┼──────────┼──────────┼──────────┼──────────┼──────────┤\n",
      "│        0 │        0 │        0 │        0 │        0 │        0 │\n",
      "├──────────┼──────────┼──────────┼──────────┼──────────┼──────────┤\n",
      "│        0 │        0 │        0 │        0 │        0 │        0 │\n",
      "├──────────┼──────────┼──────────┼──────────┼──────────┼──────────┤\n",
      "│        0 │        0 │        0 │        0 │        0 │        0 │\n",
      "╘══════════╧══════════╧══════════╧══════════╧══════════╧══════════╛\n",
      "\n",
      "\n",
      "Smart Agent Action:\n",
      "╒══════════╤══════════╤══════════╤══════════╤══════════╤══════════╕\n",
      "│   Task 1 │   Task 2 │   Task 3 │   Task 4 │   Task 5 │   Task 6 │\n",
      "╞══════════╪══════════╪══════════╪══════════╪══════════╪══════════╡\n",
      "│      0.3 │      0.3 │      0.3 │      0   │      0   │      0   │\n",
      "├──────────┼──────────┼──────────┼──────────┼──────────┼──────────┤\n",
      "│      0.4 │      0   │      0.2 │      0.1 │      0.6 │      0   │\n",
      "├──────────┼──────────┼──────────┼──────────┼──────────┼──────────┤\n",
      "│      0.1 │      0   │      0   │      0.5 │      1   │      0.7 │\n",
      "├──────────┼──────────┼──────────┼──────────┼──────────┼──────────┤\n",
      "│      0.3 │      0.4 │      0.6 │      0.3 │      0.6 │      0   │\n",
      "├──────────┼──────────┼──────────┼──────────┼──────────┼──────────┤\n",
      "│      0.2 │      0.3 │      0.3 │      0.1 │      0   │      0.5 │\n",
      "├──────────┼──────────┼──────────┼──────────┼──────────┼──────────┤\n",
      "│      0   │      0.4 │      0.4 │      0.1 │      0   │      0.2 │\n",
      "├──────────┼──────────┼──────────┼──────────┼──────────┼──────────┤\n",
      "│      0   │      0.1 │      0.3 │      1   │      0.2 │      0   │\n",
      "├──────────┼──────────┼──────────┼──────────┼──────────┼──────────┤\n",
      "│      0.4 │      0   │      0   │      0.2 │      0.6 │      0.8 │\n",
      "├──────────┼──────────┼──────────┼──────────┼──────────┼──────────┤\n",
      "│      0.1 │      0.5 │      0.4 │      0.8 │      0   │      0.2 │\n",
      "╘══════════╧══════════╧══════════╧══════════╧══════════╧══════════╛\n",
      "\n",
      "Random Agent Action:\n",
      "╒══════════╤══════════╤══════════╤══════════╤══════════╤══════════╕\n",
      "│   Task 1 │   Task 2 │   Task 3 │   Task 4 │   Task 5 │   Task 6 │\n",
      "╞══════════╪══════════╪══════════╪══════════╪══════════╪══════════╡\n",
      "│        5 │        0 │        1 │        3 │        5 │        2 │\n",
      "├──────────┼──────────┼──────────┼──────────┼──────────┼──────────┤\n",
      "│        8 │        3 │        7 │       10 │        1 │        9 │\n",
      "├──────────┼──────────┼──────────┼──────────┼──────────┼──────────┤\n",
      "│        3 │        6 │       10 │        4 │        1 │        9 │\n",
      "├──────────┼──────────┼──────────┼──────────┼──────────┼──────────┤\n",
      "│        2 │        4 │        6 │        4 │        8 │       10 │\n",
      "├──────────┼──────────┼──────────┼──────────┼──────────┼──────────┤\n",
      "│        3 │        6 │        6 │        6 │        6 │        7 │\n",
      "├──────────┼──────────┼──────────┼──────────┼──────────┼──────────┤\n",
      "│        2 │       10 │        3 │        4 │        1 │       10 │\n",
      "├──────────┼──────────┼──────────┼──────────┼──────────┼──────────┤\n",
      "│       10 │        6 │        1 │        2 │        3 │        4 │\n",
      "├──────────┼──────────┼──────────┼──────────┼──────────┼──────────┤\n",
      "│        4 │        6 │        2 │       10 │        9 │        6 │\n",
      "├──────────┼──────────┼──────────┼──────────┼──────────┼──────────┤\n",
      "│        0 │        9 │        3 │        4 │        2 │        7 │\n",
      "╘══════════╧══════════╧══════════╧══════════╧══════════╧══════════╛\n"
     ]
    }
   ],
   "source": [
    "env = BiddingEnv()\n",
    "obs, _ = env.reset()\n",
    "\n",
    "env.render(mode='human_verbose')\n",
    "\n",
    "smart_action, _ = model.predict(obs, deterministic=True) # use pretrained model\n",
    "random_action = env.action_space.sample() # sample random action\n",
    "\n",
    "print('Smart Agent Action:')\n",
    "print(\n",
    "    tabulate(\n",
    "        np.round(smart_action, 1), \n",
    "        headers=[f\"Task {i+1}\" for i in range(len(smart_action))], \n",
    "        tablefmt='fancy_grid'\n",
    "    )\n",
    ")\n",
    "\n",
    "print('\\nRandom Agent Action:')\n",
    "print(\n",
    "\ttabulate(\n",
    "\t\trandom_action, \n",
    "\t\theaders=[f\"Task {i+1}\" for i in range(len(random_action))], \n",
    "\t\ttablefmt='fancy_grid'\n",
    "\t)\n",
    ")"
   ]
  },
  {
   "cell_type": "code",
   "execution_count": null,
   "metadata": {},
   "outputs": [],
   "source": []
  }
 ],
 "metadata": {
  "kernelspec": {
   "display_name": ".venv",
   "language": "python",
   "name": "python3"
  },
  "language_info": {
   "codemirror_mode": {
    "name": "ipython",
    "version": 3
   },
   "file_extension": ".py",
   "mimetype": "text/x-python",
   "name": "python",
   "nbconvert_exporter": "python",
   "pygments_lexer": "ipython3",
   "version": "3.11.4"
  }
 },
 "nbformat": 4,
 "nbformat_minor": 2
}
